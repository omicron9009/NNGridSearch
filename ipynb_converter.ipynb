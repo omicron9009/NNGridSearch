{
 "cells": [
  {
   "cell_type": "code",
   "execution_count": 4,
   "id": "ce521248",
   "metadata": {},
   "outputs": [
    {
     "name": "stdout",
     "output_type": "stream",
     "text": [
      "Notebook saved as 'merged_output.ipynb'\n"
     ]
    }
   ],
   "source": [
    "import os\n",
    "import nbformat\n",
    "from nbformat.v4 import new_notebook, new_code_cell\n",
    "\n",
    "def py_files_to_notebook(py_files, output_file=\"combined_notebook.ipynb\"):\n",
    "    notebook = new_notebook()\n",
    "    cells = []\n",
    "\n",
    "    for file_path in py_files:\n",
    "        if not file_path.endswith(\".py\") or not os.path.exists(file_path):\n",
    "            print(f\"Skipping invalid file: {file_path}\")\n",
    "            continue\n",
    "\n",
    "        with open(file_path, \"r\", encoding=\"utf-8\") as f:\n",
    "            code = f.read()\n",
    "            cell = new_code_cell(source=code)\n",
    "            cells.append(cell)\n",
    "\n",
    "    notebook.cells = cells\n",
    "\n",
    "    with open(output_file, \"w\", encoding=\"utf-8\") as f:\n",
    "        nbformat.write(notebook, f)\n",
    "    \n",
    "    print(f\"Notebook saved as '{output_file}'\")\n",
    "\n",
    "# Example usage\n",
    "input_files = ['AutoML_Demo_Template.py',\n",
    " 'automl_search.py',\n",
    " 'cnn_autoencoder_builder.py',\n",
    " 'get_plot_filters.py',\n",
    " 'output_extractor.py',\n",
    " 'run_search.py',\n",
    " 'unit_test.py',\n",
    " 'visualize_filters.py']\n",
    "  # Replace with your file paths\n",
    "py_files_to_notebook(input_files, output_file=\"merged_output.ipynb\")\n"
   ]
  },
  {
   "cell_type": "code",
   "execution_count": 1,
   "id": "1b6b013f",
   "metadata": {},
   "outputs": [],
   "source": [
    "import os "
   ]
  },
  {
   "cell_type": "code",
   "execution_count": 3,
   "id": "35b7d737",
   "metadata": {},
   "outputs": [
    {
     "data": {
      "text/plain": [
       "['AutoML_Demo_Template.py',\n",
       " 'automl_search.py',\n",
       " 'cnn_autoencoder_builder.py',\n",
       " 'get_plot_filters.py',\n",
       " 'ipynb_converter.ipynb',\n",
       " 'output_extractor.py',\n",
       " 'run_search.py',\n",
       " 'unit_test.py',\n",
       " 'visualize_filters.py']"
      ]
     },
     "execution_count": 3,
     "metadata": {},
     "output_type": "execute_result"
    }
   ],
   "source": [
    "os.listdir()"
   ]
  },
  {
   "cell_type": "code",
   "execution_count": null,
   "id": "1d0771b0",
   "metadata": {},
   "outputs": [],
   "source": []
  }
 ],
 "metadata": {
  "kernelspec": {
   "display_name": "Python 3",
   "language": "python",
   "name": "python3"
  },
  "language_info": {
   "codemirror_mode": {
    "name": "ipython",
    "version": 3
   },
   "file_extension": ".py",
   "mimetype": "text/x-python",
   "name": "python",
   "nbconvert_exporter": "python",
   "pygments_lexer": "ipython3",
   "version": "3.11.9"
  }
 },
 "nbformat": 4,
 "nbformat_minor": 5
}
